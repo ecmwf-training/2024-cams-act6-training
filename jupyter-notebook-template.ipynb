{
  "cells": [
    {
      "cell_type": "markdown",
      "metadata": {
        "tags": [
          "test",
          "logo"
        ]
      },
      "source": [
        "[![logo](https://raw.githubusercontent.com/ecmwf-training/2024-cams-act6-training/main/images/logoline.png)](https://atmosphere.copernicus.eu/6th-ecmwf-cams-esa-eumetsat-training-atmospheric-composition)"
      ]
    },
    {
      "cell_type": "markdown",
      "metadata": {},
      "source": [
        "# Title"
      ]
    },
    {
      "cell_type": "markdown",
      "metadata": {},
      "source": [
        "**Run the tutorial via free cloud platforms**: [![binder](https://mybinder.org/badge.svg)](https://mybinder.org/v2/gh/ecmwf-training/2024-cams-act6-training/main?labpath=jupyter-notebook-template.ipynb)\n",
        "[![kaggle](https://kaggle.com/static/images/open-in-kaggle.svg)](https://kaggle.com/kernels/welcome?src=https://github.com/ecmwf-training/2024-cams-act6-training/blob/main/jupyter-notebook-template.ipynb)\n",
        "[![colab](https://colab.research.google.com/assets/colab-badge.svg)](https://colab.research.google.com/github/ecmwf-training/2024-cams-act6-training/blob/main/jupyter-notebook-template.ipynb)\n"
      ]
    },
    {
      "cell_type": "markdown",
      "metadata": {},
      "source": [
        "## Learning objectives"
      ]
    },
    {
      "cell_type": "markdown",
      "metadata": {
        "tags": []
      },
      "source": [
        "Brief description of what participants can expect to achieve with this notebook."
      ]
    },
    {
      "cell_type": "markdown",
      "metadata": {},
      "source": [
        "## Initial setup"
      ]
    },
    {
      "cell_type": "markdown",
      "metadata": {},
      "source": [
        "Before we begin we must prepare our environment. This includes installing the Application Programming Interface (API) of the Atmosphere Data Store (ADS), intalling any other packages not already installed, setting up our ADS API credentials and importing the various Python libraries that we will need."
      ]
    },
    {
      "cell_type": "code",
      "execution_count": 1,
      "metadata": {},
      "outputs": [],
      "source": [
        "# Ensure that the cdsapi package is installed\n",
        "!pip install -q cdsapi"
      ]
    },
    {
      "cell_type": "code",
      "execution_count": 1,
      "metadata": {},
      "outputs": [],
      "source": [
        "# If you are running this notebook in Colab, uncomment the line below and run this cell.\n",
        "#!pip install cartopy"
      ]
    },
    {
      "cell_type": "markdown",
      "metadata": {},
      "source": [
        "### Add your ADS API credentials"
      ]
    },
    {
      "cell_type": "markdown",
      "metadata": {},
      "source": [
        "To set up your ADS API credentials, please login/register on the [ADS](https://ads.atmosphere.copernicus.eu/), then you will see your [unique API key here](https://ads.atmosphere.copernicus.eu/how-to-api). \n",
        "\n",
        "You can add this API key to your current session by replacing `#########` in the code cell below with your API key."
      ]
    },
    {
      "cell_type": "code",
      "execution_count": 2,
      "metadata": {},
      "outputs": [],
      "source": [
        "import os\n",
        "os.environ['CDSAPI_URL'] = 'https://ads.atmosphere.copernicus.eu/api'\n",
        "os.environ['CDSAPI_KEY'] = '###########################################'"
      ]
    },
    {
      "cell_type": "markdown",
      "metadata": {},
      "source": [
        "### Import libraries"
      ]
    },
    {
      "cell_type": "code",
      "execution_count": 3,
      "metadata": {},
      "outputs": [],
      "source": [
        "# CDS API\n",
        "import cdsapi\n",
        "\n",
        "# Libraries for working with multidimensional arrays\n",
        "import numpy as np\n",
        "import xarray as xr\n",
        "\n",
        "# Libraries for plotting and visualising data\n",
        "import matplotlib.path as mpath\n",
        "import matplotlib.pyplot as plt\n",
        "import cartopy.crs as ccrs\n",
        "from cartopy.mpl.gridliner import LONGITUDE_FORMATTER, LATITUDE_FORMATTER\n",
        "import cartopy.feature as cfeature\n",
        "\n",
        "# Disable warnings for data download via API\n",
        "import urllib3 \n",
        "urllib3.disable_warnings()"
      ]
    },
    {
      "cell_type": "markdown",
      "metadata": {},
      "source": [
        "Here we specify a data directory in which we will download our data and all output files that we will generate:"
      ]
    },
    {
      "cell_type": "code",
      "execution_count": 4,
      "metadata": {},
      "outputs": [],
      "source": [
        "DATADIR = '.'"
      ]
    },
    {
      "cell_type": "markdown",
      "metadata": {},
      "source": [
        "## Explore and download data"
      ]
    },
    {
      "cell_type": "markdown",
      "metadata": {},
      "source": [
        "Paragraph explaining how to select the data used in this training notebook, include a link to the catalogue entry (e.g. https://ads.atmosphere.copernicus.eu/datasets/cams-global-reanalysis-eac4-monthly?tab=download) and a description of the selection options.\n",
        "\n",
        "*Add the following text as a reminder...*\n",
        "At the end of the download form, select **\"Show API request\"**. This will reveal a block of code, which you can simply copy and paste into a cell of your Jupyter Notebook.\n",
        "\n",
        "**Please remember to accept the terms and conditions at the bottom of the download form.**"
      ]
    },
    {
      "cell_type": "markdown",
      "metadata": {},
      "source": [
        "### Download data"
      ]
    },
    {
      "cell_type": "markdown",
      "metadata": {},
      "source": [
        "With the API request copied into the cell below, running this cell will retrieve and download the data you requested into your local directory."
      ]
    },
    {
      "cell_type": "code",
      "execution_count": 5,
      "metadata": {},
      "outputs": [
        {
          "name": "stderr",
          "output_type": "stream",
          "text": [
            "2024-09-12 17:22:35,658 INFO Request ID is 00c30b82-9a20-4367-8761-1198caf08f41\n",
            "2024-09-12 17:22:35,749 INFO status has been updated to accepted\n",
            "2024-09-12 17:22:37,367 INFO status has been updated to running\n",
            "2024-09-12 17:22:39,724 INFO status has been updated to successful\n"
          ]
        },
        {
          "data": {
            "application/vnd.jupyter.widget-view+json": {
              "model_id": "",
              "version_major": 2,
              "version_minor": 0
            },
            "text/plain": [
              "5ea7ce88708ad8527d2197ac81159921.nc:   0%|          | 0.00/64.4M [00:00<?, ?B/s]"
            ]
          },
          "metadata": {},
          "output_type": "display_data"
        },
        {
          "data": {
            "text/plain": [
              "'./TCO3_monthly_2003-2023.nc'"
            ]
          },
          "execution_count": 5,
          "metadata": {},
          "output_type": "execute_result"
        }
      ],
      "source": [
        "dataset = \"cams-global-reanalysis-eac4-monthly\"\n",
        "request = {\n",
        "    'variable': ['total_column_ozone'],\n",
        "    'year': ['2003', '2004', '2005', '2006', '2007', \n",
        "             '2008', '2009', '2010', '2011', '2012', \n",
        "             '2013', '2014', '2015', '2016', '2017', \n",
        "             '2018', '2019', '2020', '2021', '2022', \n",
        "             '2023'],\n",
        "    'month': ['01', '02', '03', '04', '05', '06', \n",
        "              '07', '08', '09', '10', '11', '12'],\n",
        "    'product_type': ['monthly_mean'],\n",
        "    'data_format': 'netcdf'\n",
        "}\n",
        "\n",
        "client = cdsapi.Client()\n",
        "client.retrieve(dataset, request).download(\n",
        "    f'{DATADIR}/TCO3_monthly_2003-2023.nc')"
      ]
    },
    {
      "cell_type": "markdown",
      "metadata": {},
      "source": [
        "## Inspect data"
      ]
    },
    {
      "cell_type": "markdown",
      "metadata": {},
      "source": [
        "Explain how to open the downloaded data with xarray/earthkit, and give a description of what is in that file:\n",
        "\n",
        "- Explain the features of this data\n",
        "- Any interesting aspects, e.g. multiple time-dimensions\n",
        "- Explain any modifications that are made/additional arguments used when reading the data\n",
        "\n",
        "*EXAMPLE*:\n",
        "\n",
        "\n"
      ]
    },
    {
      "cell_type": "code",
      "execution_count": 8,
      "metadata": {},
      "outputs": [],
      "source": [
        "# Path to the downloaded file\n",
        "t2m = f'{DATADIR}/TCO3_monthly_2003-2023.nc'\n",
        "\n",
        "# Create Xarray Dataset\n",
        "ds = xr.open_dataset(t2m)\n",
        "\n",
        "# view the dataset\n",
        "ds"
      ]
    },
    {
      "cell_type": "markdown",
      "metadata": {},
      "source": [
        "## Data processing, such as unit conversion, aggregation, etc."
      ]
    },
    {
      "cell_type": "markdown",
      "metadata": {},
      "source": [
        "## Data visualisation"
      ]
    },
    {
      "cell_type": "markdown",
      "metadata": {},
      "source": [
        "Explain how to visualise the data in e.g. maps, animations, time series plots, etc. Keep code to a minimum, using e.g. xarray/earthkit, or e.g. matplotlib and cartopy for more custom figures."
      ]
    },
    {
      "cell_type": "markdown",
      "metadata": {},
      "source": [
        "## Take home messages"
      ]
    },
    {
      "cell_type": "markdown",
      "metadata": {},
      "source": [
        "Summarise key take home messages."
      ]
    },
    {
      "cell_type": "code",
      "execution_count": null,
      "metadata": {},
      "outputs": [],
      "source": []
    }
  ],
  "metadata": {
    "kernelspec": {
      "display_name": "Python 3 (ipykernel)",
      "language": "python",
      "name": "python3"
    },
    "language_info": {
      "codemirror_mode": {
        "name": "ipython",
        "version": 3
      },
      "file_extension": ".py",
      "mimetype": "text/x-python",
      "name": "python",
      "nbconvert_exporter": "python",
      "pygments_lexer": "ipython3",
      "version": "3.10.9"
    }
  },
  "nbformat": 4,
  "nbformat_minor": 4
}